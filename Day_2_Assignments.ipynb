{
  "nbformat": 4,
  "nbformat_minor": 0,
  "metadata": {
    "colab": {
      "name": "Day-2 Assignments.ipynb",
      "provenance": [],
      "authorship_tag": "ABX9TyNN+KC43AGiSGhmjdsTgN7h",
      "include_colab_link": true
    },
    "kernelspec": {
      "name": "python3",
      "display_name": "Python 3"
    }
  },
  "cells": [
    {
      "cell_type": "markdown",
      "metadata": {
        "id": "view-in-github",
        "colab_type": "text"
      },
      "source": [
        "<a href=\"https://colab.research.google.com/github/Hari9734/let-s-upgrade_python-programmes/blob/main/Day_2_Assignments.ipynb\" target=\"_parent\"><img src=\"https://colab.research.google.com/assets/colab-badge.svg\" alt=\"Open In Colab\"/></a>"
      ]
    },
    {
      "cell_type": "markdown",
      "metadata": {
        "id": "mor1KR0Gdjze"
      },
      "source": [
        "# Assignment:1- Try Different Functions of String"
      ]
    },
    {
      "cell_type": "code",
      "metadata": {
        "colab": {
          "base_uri": "https://localhost:8080/",
          "height": 35
        },
        "id": "7BKckk-2b2Zo",
        "outputId": "4b5ed81a-0b1c-41b9-e3e4-75b1d001bbb6"
      },
      "source": [
        "x=\"What is My Name?\"\r\n",
        "type(x) # returns the type of Variable.\r\n",
        "x.capitalize() #To Capitalize the first letter of the String and rest of the letters are in Small Case.\r\n",
        "x.isalnum() # Returns true if the Characters of the String are Alpha-Numeric, False otherwise.\r\n",
        "x.islower() # Returns if the characters of the string are lower case.\r\n",
        "x.lower()# Returns the Characters of the string in lower case.\r\n",
        "a=x.replace(\"What is My Name\",\"What is Your Name\") # To Replace the string.\r\n",
        "a.swapcase()# Converts Upper Case letters to Lower case and vice versa.\r\n",
        "\r\n",
        "\r\n"
      ],
      "execution_count": 28,
      "outputs": [
        {
          "output_type": "execute_result",
          "data": {
            "application/vnd.google.colaboratory.intrinsic+json": {
              "type": "string"
            },
            "text/plain": [
              "'wHAT IS yOUR nAME?'"
            ]
          },
          "metadata": {
            "tags": []
          },
          "execution_count": 28
        }
      ]
    },
    {
      "cell_type": "markdown",
      "metadata": {
        "id": "dYv3DgUlkLcd"
      },
      "source": [
        "# Assignment:2- Try Different Functions of the List"
      ]
    },
    {
      "cell_type": "code",
      "metadata": {
        "id": "hM1fubqSgM_S"
      },
      "source": [
        "y=[1,2,3,\"Hi\",[\"How are you?\",2.5,12],10.25]\r\n",
        "type(y)\r\n",
        "y.remove(10.25) # To remove any occurence from the List.\r\n",
        "y.reverse()# To reverse the order of the occurances\r\n",
        "y.pop(4) # To remove the object at the specified index.\r\n",
        "y.extend([1,52]) \r\n",
        "y.clear() # To remove all the items from a list.\r\n",
        "\r\n",
        "\r\n",
        "\r\n",
        "\r\n"
      ],
      "execution_count": null,
      "outputs": []
    },
    {
      "cell_type": "markdown",
      "metadata": {
        "id": "brQT6QTIktyA"
      },
      "source": [
        "## Experiment with Default functions of Dictionary"
      ]
    },
    {
      "cell_type": "code",
      "metadata": {
        "colab": {
          "base_uri": "https://localhost:8080/"
        },
        "id": "fPTLuumwk6UD",
        "outputId": "182a17f0-cb5d-4509-9bd7-cff0e3a6e6b1"
      },
      "source": [
        "hari={\"a\":\"123\",\"b\":\"456\",\"c\":\"789\"}\r\n",
        "type(hari)\r\n",
        "hari.copy()# a New Dictionary with the copy of references from the original dictionary.\r\n",
        "keys =('a','e','i','o','u')\r\n",
        "value =(1,2)\r\n",
        "b=dict.fromkeys(keys,value) # returns a new dictionary with keys and value.\r\n",
        "hari.values()\r\n",
        "hari.keys()"
      ],
      "execution_count": 71,
      "outputs": [
        {
          "output_type": "execute_result",
          "data": {
            "text/plain": [
              "dict_keys(['a', 'b', 'c'])"
            ]
          },
          "metadata": {
            "tags": []
          },
          "execution_count": 71
        }
      ]
    },
    {
      "cell_type": "code",
      "metadata": {
        "id": "5YSAupoVnKTv"
      },
      "source": [
        ""
      ],
      "execution_count": null,
      "outputs": []
    }
  ]
}